{
 "cells": [
  {
   "cell_type": "code",
   "execution_count": 1,
   "metadata": {
    "collapsed": true
   },
   "outputs": [],
   "source": [
    "# References\n",
    "# pythonの機械学習ライブラリscikit-learnの紹介\n",
    "# http://sucrose.hatenablog.com/entry/2013/05/25/133021\n",
    "# 言語処理のための機械学習入門\n",
    "# http://nlp.dse.ibaraki.ac.jp/~shinnou/zemi2011/ml4nlp/ml4nlp-rinka-0701.pdf\n",
    "# Way of Experiment &amp; Evaluation\n",
    "# http://www.slideshare.net/lanevok/way-of-experiment-evaluation-16623634"
   ]
  },
  {
   "cell_type": "code",
   "execution_count": 2,
   "metadata": {
    "collapsed": true
   },
   "outputs": [],
   "source": [
    "import numpy             as np\n",
    "import pandas            as pd"
   ]
  },
  {
   "cell_type": "code",
   "execution_count": 3,
   "metadata": {
    "collapsed": false
   },
   "outputs": [
    {
     "name": "stdout",
     "output_type": "stream",
     "text": [
      "N = 150, D = 4, K = 3\n"
     ]
    }
   ],
   "source": [
    "from sklearn.datasets import load_iris\n",
    "\n",
    "# データの読込\n",
    "iris = load_iris()\n",
    "X    = iris.data\n",
    "t    = iris.target\n",
    "\n",
    "# N: データの数, D: データの次元, K: クラスの数\n",
    "N, D = X.shape\n",
    "K    = np.unique(t).size\n",
    "\n",
    "print(\"N = {0}, D = {1}, K = {2}\".format(N, D, K))"
   ]
  },
  {
   "cell_type": "code",
   "execution_count": 4,
   "metadata": {
    "collapsed": false
   },
   "outputs": [
    {
     "name": "stdout",
     "output_type": "stream",
     "text": [
      "N_train = 120, N_test = 30\n"
     ]
    }
   ],
   "source": [
    "from sklearn.cross_validation import train_test_split\n",
    "\n",
    "# データの分割\n",
    "X_train, X_test, t_train, t_test = train_test_split(X, t, test_size=0.2, random_state=0)\n",
    "\n",
    "N_train = X_train.shape[0]\n",
    "N_test  = X_test.shape[0]\n",
    "\n",
    "print(\"N_train = {0}, N_test = {1}\".format(N_train, N_test))"
   ]
  },
  {
   "cell_type": "code",
   "execution_count": 5,
   "metadata": {
    "collapsed": false
   },
   "outputs": [
    {
     "name": "stdout",
     "output_type": "stream",
     "text": [
      "SVC(C=2.0, cache_size=200, class_weight=None, coef0=0.0,\n",
      "  decision_function_shape=None, degree=3, gamma=0.45, kernel='rbf',\n",
      "  max_iter=-1, probability=True, random_state=None, shrinking=True,\n",
      "  tol=0.001, verbose=False)\n"
     ]
    }
   ],
   "source": [
    "from sklearn.svm import SVC\n",
    "\n",
    "# 分類器の生成 (SVM)\n",
    "clf = SVC(kernel='rbf', C=2.0, gamma=0.45, probability=True)\n",
    "\n",
    "print(clf)"
   ]
  },
  {
   "cell_type": "code",
   "execution_count": 6,
   "metadata": {
    "collapsed": false
   },
   "outputs": [
    {
     "name": "stdout",
     "output_type": "stream",
     "text": [
      "N_support = 35\n"
     ]
    }
   ],
   "source": [
    "# 学習\n",
    "clf.fit(X_train, t_train)\n",
    "\n",
    "# サポートベクトル\n",
    "support         = clf.support_\n",
    "support_vectors = X[support]\n",
    "N_support       = support_vectors.shape[0]\n",
    "\n",
    "print(\"N_support = {0}\".format(N_support))"
   ]
  },
  {
   "cell_type": "code",
   "execution_count": 7,
   "metadata": {
    "collapsed": false
   },
   "outputs": [
    {
     "name": "stdout",
     "output_type": "stream",
     "text": [
      "    proba_0   proba_1   proba_2  outputs\n",
      "0  0.216951  0.329015  0.454033        2\n",
      "1  0.355333  0.375984  0.268683        1\n"
     ]
    }
   ],
   "source": [
    "# 入力データ\n",
    "inputs  = np.array([\n",
    "    [1.1, 2.2, 3.3, 4.4],\n",
    "    [4.1, 3.2, 2.3, 1.4]\n",
    "])\n",
    "\n",
    "# 予測\n",
    "outputs = clf.predict(inputs)\n",
    "proba   = clf.predict_proba(inputs)\n",
    "\n",
    "data    = {\n",
    "    'proba_0': proba[:, 0],\n",
    "    'proba_1': proba[:, 1],\n",
    "    'proba_2': proba[:, 2],\n",
    "    'outputs': outputs\n",
    "}\n",
    "columns = ['proba_0', 'proba_1', 'proba_2', 'outputs']\n",
    "frame   = pd.DataFrame(data, columns=columns)\n",
    "\n",
    "print(frame)"
   ]
  },
  {
   "cell_type": "code",
   "execution_count": 8,
   "metadata": {
    "collapsed": false
   },
   "outputs": [
    {
     "name": "stdout",
     "output_type": "stream",
     "text": [
      "Accuracy: 1.000\n",
      "Precision(macro): 1.000\n",
      "Precision(micro): 1.000\n",
      "Recall(macro): 1.000\n",
      "Recall(micro): 1.000\n",
      "F-score(macro): 1.000\n",
      "F-score(micro): 1.000\n"
     ]
    }
   ],
   "source": [
    "from sklearn.metrics import accuracy_score\n",
    "from sklearn.metrics import precision_score\n",
    "from sklearn.metrics import recall_score\n",
    "from sklearn.metrics import f1_score\n",
    "\n",
    "y_true, y_pred = t_test, clf.predict(X_test)\n",
    "\n",
    "# 正解率\n",
    "acc = accuracy_score(y_true, y_pred)\n",
    "print(\"Accuracy: {0:.3f}\".format(acc))\n",
    "\n",
    "# 適合率\n",
    "pre_macro = precision_score(y_true, y_pred, pos_label=None, average='macro')\n",
    "pre_micro = precision_score(y_true, y_pred, pos_label=None, average='micro')\n",
    "print(\"Precision(macro): {0:.3f}\".format(pre_macro))\n",
    "print(\"Precision(micro): {0:.3f}\".format(pre_micro))\n",
    "\n",
    "# 再現率\n",
    "rec_macro = recall_score(y_true, y_pred, pos_label=None, average='macro')\n",
    "rec_micro = recall_score(y_true, y_pred, pos_label=None, average='micro')\n",
    "print(\"Recall(macro): {0:.3f}\".format(rec_macro))\n",
    "print(\"Recall(micro): {0:.3f}\".format(rec_micro))\n",
    "\n",
    "# F 値\n",
    "f1_macro  = f1_score(y_true, y_pred, pos_label=None, average='macro')\n",
    "f1_micro  = f1_score(y_true, y_pred, pos_label=None, average='micro')\n",
    "print(\"F-score(macro): {0:.3f}\".format(f1_macro))\n",
    "print(\"F-score(micro): {0:.3f}\".format(f1_micro))"
   ]
  },
  {
   "cell_type": "code",
   "execution_count": 9,
   "metadata": {
    "collapsed": false
   },
   "outputs": [
    {
     "name": "stdout",
     "output_type": "stream",
     "text": [
      "Accuracy: 0.973 (+/- 0.027)\n"
     ]
    }
   ],
   "source": [
    "from sklearn.cross_validation import ShuffleSplit\n",
    "\n",
    "# K-分割交差検定\n",
    "K      = 5\n",
    "cv     = ShuffleSplit(n=N, n_iter=5, test_size=1/K, random_state=0)\n",
    "scores = []\n",
    "\n",
    "for train, test in cv:\n",
    "    X_train, X_test, t_train, t_test = X[train], X[test], t[train], t[test]\n",
    "    clf   = SVC(kernel='rbf', C=2.0, gamma=0.45, probability=True)\n",
    "    clf.fit(X_train, t_train)\n",
    "    score = clf.score(X_test, t_test)\n",
    "    \n",
    "    scores.append(score)\n",
    "\n",
    "score_mean = np.mean(scores)\n",
    "score_std  = np.std(scores)\n",
    "\n",
    "print(\"Accuracy: {0:.3f} (+/- {1:.3f})\".format(score_mean, 2 * score_std))"
   ]
  },
  {
   "cell_type": "code",
   "execution_count": 10,
   "metadata": {
    "collapsed": false
   },
   "outputs": [
    {
     "name": "stdout",
     "output_type": "stream",
     "text": [
      "Accuracy: 0.993\n",
      "Parameters: {'kernel': 'linear', 'C': 1.0, 'gamma': 0.02}\n"
     ]
    }
   ],
   "source": [
    "from sklearn.grid_search import GridSearchCV\n",
    "\n",
    "grid_params    = {\n",
    "    'kernel': ['linear', 'rbf'],\n",
    "    'C':      [1.0, 2.0, 10.0],\n",
    "    'gamma':  [0.02, 0.45, 0.9]\n",
    "}\n",
    "\n",
    "# パラメータチューニング \n",
    "grid_search    = GridSearchCV(clf, grid_params, cv=cv, n_jobs=-1)\n",
    "grid_search.fit(X, t)\n",
    "best_clf       = grid_search.best_estimator_\n",
    "best_score     = grid_search.best_score_\n",
    "best_params    = grid_search.best_params_\n",
    "\n",
    "print(\"Accuracy: {0:.3f}\".format(best_score))\n",
    "print(\"Parameters: {0}\".format(best_params))"
   ]
  },
  {
   "cell_type": "code",
   "execution_count": 11,
   "metadata": {
    "collapsed": true
   },
   "outputs": [],
   "source": [
    "import pickle\n",
    "\n",
    "# シリアライズ (書込)\n",
    "pickle.dump(best_clf, open('svm.dat', 'wb'))"
   ]
  },
  {
   "cell_type": "code",
   "execution_count": 12,
   "metadata": {
    "collapsed": true
   },
   "outputs": [],
   "source": [
    "# デシリアライズ (読込)\n",
    "best_clf = pickle.load(open('svm.dat', 'rb'))"
   ]
  }
 ],
 "metadata": {
  "kernelspec": {
   "display_name": "Python 3",
   "language": "python",
   "name": "python3"
  },
  "language_info": {
   "codemirror_mode": {
    "name": "ipython",
    "version": 3
   },
   "file_extension": ".py",
   "mimetype": "text/x-python",
   "name": "python",
   "nbconvert_exporter": "python",
   "pygments_lexer": "ipython3",
   "version": "3.4.3"
  }
 },
 "nbformat": 4,
 "nbformat_minor": 0
}
